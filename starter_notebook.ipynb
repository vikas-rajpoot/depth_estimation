{
 "cells": [
  {
   "cell_type": "code",
   "execution_count": 1,
   "id": "1270d2ac",
   "metadata": {},
   "outputs": [],
   "source": [
    "#read data\n",
    "from typing import List, Optional, Tuple\n",
    "from typing import List, Optional, Tuple\n",
    "from collections import namedtuple\n",
    "import logging\n",
    "import zipfile\n",
    "import math\n",
    "import sys\n",
    "import tempfile\n",
    "from typing import List, Optional, Tuple\n",
    "from pathlib import Path \n",
    "\n",
    "from scipy import ndimage\n",
    "import numpy as np\n",
    "from PIL import Image\n",
    "from matplotlib import pyplot as plt"
   ]
  },
  {
   "cell_type": "code",
   "execution_count": 2,
   "id": "155ad4b0",
   "metadata": {},
   "outputs": [],
   "source": [
    "NEIGHBOUR_PIXELS_MAX_DISTANCE_IN_METER = 0.05\n",
    "def read_data(raw_data):\n",
    "    with open(raw_data, 'rb') as file:\n",
    "        line = str(file.readline())[2:-3]\n",
    "        header = line.split(\"_\")\n",
    "        res = header[0].split(\"x\")\n",
    "        width = int(res[0])\n",
    "        height = int(res[1])\n",
    "        depthScale = float(header[1])\n",
    "        maxConfidence = float(header[2])\n",
    "        data = file.read()\n",
    "        file.close()\n",
    "    return data, width, height, depthScale"
   ]
  },
  {
   "cell_type": "code",
   "execution_count": 3,
   "id": "a9aba4b6",
   "metadata": {},
   "outputs": [],
   "source": [
    "EXTRACTED_DEPTH_FILE_NAME = 'data'\n",
    "IDENTITY_MATRIX_4D = [1., 0., 0., 0.,\n",
    "                      0., 1., 0., 0.,\n",
    "                      0., 0., 1., 0.,\n",
    "                      0., 0., 0., 1.]"
   ]
  },
  {
   "cell_type": "code",
   "execution_count": 4,
   "id": "d5c4b908",
   "metadata": {},
   "outputs": [],
   "source": [
    "def matrix_calculate(position: List[float], rotation: List[float]) -> List[float]:\n",
    "    \"\"\"Calculate a matrix image->world from device position and rotation\"\"\"\n",
    "\n",
    "    output = IDENTITY_MATRIX_4D\n",
    "\n",
    "    sqw = rotation[3] * rotation[3]\n",
    "    sqx = rotation[0] * rotation[0]\n",
    "    sqy = rotation[1] * rotation[1]\n",
    "    sqz = rotation[2] * rotation[2]\n",
    "\n",
    "    invs = 1 / (sqx + sqy + sqz + sqw)\n",
    "    output[0] = (sqx - sqy - sqz + sqw) * invs\n",
    "    output[5] = (-sqx + sqy - sqz + sqw) * invs\n",
    "    output[10] = (-sqx - sqy + sqz + sqw) * invs\n",
    "\n",
    "    tmp1 = rotation[0] * rotation[1]\n",
    "    tmp2 = rotation[2] * rotation[3]\n",
    "    output[1] = 2.0 * (tmp1 + tmp2) * invs\n",
    "    output[4] = 2.0 * (tmp1 - tmp2) * invs\n",
    "\n",
    "    tmp1 = rotation[0] * rotation[2]\n",
    "    tmp2 = rotation[1] * rotation[3]\n",
    "    output[2] = 2.0 * (tmp1 - tmp2) * invs\n",
    "    output[8] = 2.0 * (tmp1 + tmp2) * invs\n",
    "\n",
    "    tmp1 = rotation[1] * rotation[2]\n",
    "    tmp2 = rotation[0] * rotation[3]\n",
    "    output[6] = 2.0 * (tmp1 + tmp2) * invs\n",
    "    output[9] = 2.0 * (tmp1 - tmp2) * invs\n",
    "\n",
    "    output[12] = -position[0]\n",
    "    output[13] = -position[1]\n",
    "    output[14] = -position[2]\n",
    "    return output"
   ]
  },
  {
   "cell_type": "code",
   "execution_count": 5,
   "id": "607c48e1",
   "metadata": {},
   "outputs": [],
   "source": [
    "def extract_depthmap(depthmap_fpath: str, dest_dir: str) -> Path:\n",
    "    \"\"\"Extract depthmap from given file\"\"\"\n",
    "    with zipfile.ZipFile(Path(depthmap_fpath), 'r') as zip_ref:\n",
    "        zip_ref.extractall(dest_dir)\n",
    "    return Path(dest_dir) / EXTRACTED_DEPTH_FILE_NAME"
   ]
  },
  {
   "cell_type": "code",
   "execution_count": 6,
   "id": "a73d140f",
   "metadata": {},
   "outputs": [],
   "source": [
    "def parse_calibration(filepath: str) -> List[List[float]]:\n",
    "    \"\"\"Parse calibration file\n",
    "    filepath: The content of a calibration file looks like this:\n",
    "        Color camera intrinsic:\n",
    "        0.6786797 0.90489584 0.49585155 0.5035042\n",
    "        Depth camera intrinsic:\n",
    "        0.6786797 0.90489584 0.49585155 0.5035042\n",
    "    \"\"\"\n",
    "    with open(filepath, 'r') as f:\n",
    "        calibration = []\n",
    "        for _ in range(2):\n",
    "            f.readline().strip()\n",
    "            line_with_numbers = f.readline()\n",
    "            intrinsic = parse_numbers(line_with_numbers)\n",
    "            calibration.append(intrinsic)\n",
    "    return calibration\n",
    "\n",
    "def parse_numbers(line: str) -> List[float]:\n",
    "    \"\"\"Parse line of numbers\n",
    "    Args:\n",
    "        line: Example: \"0.6786797 0.90489584 0.49585155 0.5035042\"\n",
    "    Return:\n",
    "        numbers: [0.6786797, 0.90489584, 0.49585155, 0.5035042]\n",
    "    \"\"\"\n",
    "    return [float(value) for value in line.split(' ')]"
   ]
  },
  {
   "cell_type": "code",
   "execution_count": 7,
   "id": "4ed361ba",
   "metadata": {},
   "outputs": [],
   "source": [
    "def parse_header(header_line: str) -> Tuple:\n",
    "        header_parts = header_line.split('_')\n",
    "        res = header_parts[0].split('x')\n",
    "        width = int(res[0])\n",
    "        height = int(res[1])\n",
    "        depth_scale = float(header_parts[1])\n",
    "        max_confidence = float(header_parts[2])\n",
    "        if len(header_parts) >= 10:\n",
    "            position = (float(header_parts[7]), float(header_parts[8]), float(header_parts[9]))\n",
    "            rotation = (float(header_parts[3]), float(header_parts[4]),\n",
    "                        float(header_parts[5]), float(header_parts[6]))\n",
    "            if position == (0., 0., 0.):\n",
    "                print(f\"device_pose looks wrong: position='{position}'\")\n",
    "                device_pose = None\n",
    "            else:\n",
    "                device_pose = matrix_calculate(position, rotation)\n",
    "        else:\n",
    "            device_pose = IDENTITY_MATRIX_4D\n",
    "        return width, height, depth_scale, max_confidence, device_pose"
   ]
  },
  {
   "cell_type": "code",
   "execution_count": 8,
   "id": "c6e7579f",
   "metadata": {},
   "outputs": [],
   "source": [
    "def read_depthmap_data(depthmap_fpath):\n",
    "        with tempfile.TemporaryDirectory() as tmpdirname:\n",
    "            path = extract_depthmap(depthmap_fpath, tmpdirname)\n",
    "            with open(path, 'rb') as f:\n",
    "                header_line = f.readline().decode().strip()\n",
    "                width, height, depth_scale, max_confidence, device_pose = parse_header(header_line)\n",
    "                data = f.read()\n",
    "                f.close()\n",
    "        return width, height, data, depth_scale, max_confidence, device_pose, header_line "
   ]
  },
  {
   "cell_type": "code",
   "execution_count": 9,
   "id": "ca916012",
   "metadata": {},
   "outputs": [],
   "source": [
    "def read_rgb_data(rgb_fpath, width, height):\n",
    "        if rgb_fpath:\n",
    "            pil_im = Image.open(rgb_fpath)\n",
    "            pil_im = pil_im.rotate(-90, expand=True)\n",
    "            rgb_height, rgb_width = pil_im.width, pil_im.height  # Weird switch\n",
    "            assert rgb_width / width == rgb_height / height, f'{rgb_width} / {width} != {rgb_height} / {height}'\n",
    "            pil_im = pil_im.resize((height, width), Image.ANTIALIAS)\n",
    "            rgb_array = np.asarray(pil_im)\n",
    "        else:\n",
    "            rgb_array = None\n",
    "        return rgb_array"
   ]
  },
  {
   "cell_type": "code",
   "execution_count": 10,
   "id": "5308aa4b",
   "metadata": {},
   "outputs": [],
   "source": [
    "def parse_depth_data(data,width,height,depth_scale) -> np.ndarray:\n",
    "        output = np.zeros((width, height))\n",
    "        for x in range(width):\n",
    "            for y in range(height):\n",
    "                output[x, y] = parse_depth(data, x, y,width,height,depth_scale)\n",
    "        return output\n",
    "\n",
    "def parse_depth(data: bytes, tx: int, ty: int,width,height,depth_scale) -> float:\n",
    "    \"\"\"Get depth of the point in meters\"\"\"\n",
    "    if tx < 1 or ty < 1 or tx >= width or ty >= height:\n",
    "        return 0.\n",
    "    index = height - int(ty) - 1\n",
    "    depth = data[(index * width + int(tx)) * 3 + 0] << 8\n",
    "    depth += data[(index * width + int(tx)) * 3 + 1]\n",
    "    depth *= depth_scale\n",
    "    return depth"
   ]
  },
  {
   "cell_type": "markdown",
   "id": "822dc6a3",
   "metadata": {},
   "source": [
    "## Load and display depthmap and RGB files "
   ]
  },
  {
   "cell_type": "code",
   "execution_count": 11,
   "id": "dcddc436",
   "metadata": {},
   "outputs": [],
   "source": [
    "from os import walk\n",
    "\n",
    "directory = [] \n",
    "path = 'C:/Users/vikas/Documents/assignments/mixed_scans/scans'\n",
    "\n",
    "# path, directory, filenames = walk(path) \n",
    "\n",
    "for (_, dirnames, filenames) in walk('C:/Users/vikas/Documents/assignments/mixed_scans/scans'):\n",
    "    directory.extend(dirnames)  \n",
    "    break\n",
    "\n",
    "# walk(path)"
   ]
  },
  {
   "cell_type": "code",
   "execution_count": null,
   "id": "1ec08ba8",
   "metadata": {},
   "outputs": [],
   "source": []
  },
  {
   "cell_type": "code",
   "execution_count": 12,
   "id": "9bc87360",
   "metadata": {},
   "outputs": [],
   "source": [
    "calibration_file = [] \n",
    "depthmap_file = [] \n",
    "rgb_file = [] \n",
    "\n",
    "for dir in directory:\n",
    "    calibration_file.append(path + '/' + dir + '/calibration/0') \n",
    "    depthmap_file.append(path + '/' + dir + '/depth/1') \n",
    "    rgb_file.append(path + '/' + dir + '/rgb/1') "
   ]
  },
  {
   "cell_type": "code",
   "execution_count": 13,
   "id": "11073d11",
   "metadata": {},
   "outputs": [],
   "source": [
    "# width, height, data, depth_scale, max_confidence, device_pose, header_line=read_depthmap_data(depthmap_file[0])"
   ]
  },
  {
   "cell_type": "code",
   "execution_count": 14,
   "id": "b51f2ea6",
   "metadata": {},
   "outputs": [],
   "source": [
    "# print(type(data))\n",
    "# img = Image.fromarray(data) \n",
    "# img.save(\"./image\"+str(100)+\".png\")   "
   ]
  },
  {
   "cell_type": "code",
   "execution_count": 15,
   "id": "0043934c",
   "metadata": {},
   "outputs": [],
   "source": [
    "# calibration_file = './mixed_scans/scans/cef7be21-b99d-11ed-a07e-1f06179fe4a4/calibration/0'\n",
    "# depthmap_file = './mixed_scans/scans/cef7be21-b99d-11ed-a07e-1f06179fe4a4/depth/1'\n",
    "# rgb_file = './mixed_scans/scans/cef7be21-b99d-11ed-a07e-1f06179fe4a4/rgb/1'"
   ]
  },
  {
   "cell_type": "code",
   "execution_count": 16,
   "id": "60382058",
   "metadata": {},
   "outputs": [],
   "source": [
    "def create_from_zip_absolute(depthmap_fpath: str,rgb_fpath: str,\n",
    "                                 calibration_fpath: str) -> 'Depthmap':\n",
    "        width, height, data, depth_scale, max_confidence, device_pose, header_line = (read_depthmap_data(depthmap_fpath))\n",
    "        depthmap =  parse_depth_data(data,width,height,depth_scale) \n",
    "        rgb_array = read_rgb_data(rgb_fpath, width, height)\n",
    "        intrinsics = parse_calibration(calibration_fpath) \n",
    "        return (intrinsics, width, height, depthmap,depth_scale, max_confidence, device_pose, rgb_fpath, rgb_array, header_line)"
   ]
  },
  {
   "cell_type": "code",
   "execution_count": null,
   "id": "7088ba99",
   "metadata": {},
   "outputs": [],
   "source": []
  },
  {
   "cell_type": "code",
   "execution_count": 17,
   "id": "97fd642c",
   "metadata": {},
   "outputs": [
    {
     "name": "stderr",
     "output_type": "stream",
     "text": [
      "C:\\Users\\vikas\\AppData\\Local\\Temp\\ipykernel_22120\\4267084354.py:7: DeprecationWarning: ANTIALIAS is deprecated and will be removed in Pillow 10 (2023-07-01). Use Resampling.LANCZOS instead.\n",
      "  pil_im = pil_im.resize((height, width), Image.ANTIALIAS)\n"
     ]
    },
    {
     "name": "stdout",
     "output_type": "stream",
     "text": [
      "(240, 180, 3)\n",
      "(240, 180, 3)\n",
      "(240, 180, 3)\n",
      "(240, 180, 3)\n",
      "(240, 180, 3)\n",
      "(240, 180, 3)\n",
      "device_pose looks wrong: position='(0.0, -0.0, -0.0)'\n",
      "(240, 180, 3)\n",
      "(240, 180, 3)\n",
      "(240, 180, 3)\n",
      "device_pose looks wrong: position='(0.0, -0.0, -0.0)'\n",
      "(240, 180, 3)\n",
      "(240, 180, 3)\n",
      "(240, 180, 3)\n",
      "device_pose looks wrong: position='(0.0, -0.0, -0.0)'\n",
      "(240, 180, 3)\n",
      "(240, 180, 3)\n"
     ]
    },
    {
     "data": {
      "image/png": "[encoded data removed]",
      "text/plain": [
       "<Figure size 640x480 with 1 Axes>"
      ]
     },
     "metadata": {},
     "output_type": "display_data"
    }
   ],
   "source": [
    "import numpy as np\n",
    "from PIL import Image\n",
    "\n",
    "counter = 0\n",
    "for (df, rgb_f, cal_file) in zip(depthmap_file, rgb_file, calibration_file):\n",
    "    data  = create_from_zip_absolute(df, rgb_f,cal_file) \n",
    "    \n",
    "    plt.imshow(data[8])  \n",
    "\n",
    "    print(data[8].shape) \n",
    "\n",
    "\n",
    "    img = Image.fromarray(data[8]) \n",
    "    img.save(\"./test_img_1/image\"+str(counter)+\".png\")  \n",
    "    \n",
    "    img = Image.fromarray(data[3])  \n",
    "    \n",
    "    img = img.convert(\"L\")\n",
    "\n",
    "    # if img.mode != 'RGB':\n",
    "    #     img = img.convert('RGB')\n",
    "    plt.imshow(data[3]) \n",
    "    plt.savefig('./original_depth/depth'+str(counter)+'.png')\n",
    "        \n",
    "    # img.save(\"./image_depth\"+str(counter)+\".jpg\")  \n",
    "    counter += 1 "
   ]
  },
  {
   "cell_type": "code",
   "execution_count": null,
   "id": "a0aa03f0",
   "metadata": {},
   "outputs": [],
   "source": []
  },
  {
   "cell_type": "code",
   "execution_count": null,
   "id": "7130814d",
   "metadata": {},
   "outputs": [],
   "source": []
  },
  {
   "cell_type": "code",
   "execution_count": null,
   "id": "f129d427",
   "metadata": {},
   "outputs": [],
   "source": []
  },
  {
   "cell_type": "code",
   "execution_count": null,
   "id": "d08d6a52",
   "metadata": {},
   "outputs": [],
   "source": []
  },
  {
   "cell_type": "code",
   "execution_count": null,
   "id": "19bb1348",
   "metadata": {},
   "outputs": [],
   "source": []
  },
  {
   "cell_type": "code",
   "execution_count": null,
   "id": "5fc0c1fc",
   "metadata": {},
   "outputs": [],
   "source": []
  }
 ],
 "metadata": {
  "kernelspec": {
   "display_name": "Python 3 (ipykernel)",
   "language": "python",
   "name": "python3"
  },
  "language_info": {
   "codemirror_mode": {
    "name": "ipython",
    "version": 3
   },
   "file_extension": ".py",
   "mimetype": "text/x-python",
   "name": "python",
   "nbconvert_exporter": "python",
   "pygments_lexer": "ipython3",
   "version": "3.10.8"
  }
 },
 "nbformat": 4,
 "nbformat_minor": 5
}
